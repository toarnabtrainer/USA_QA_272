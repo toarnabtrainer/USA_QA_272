{
 "cells": [
  {
   "cell_type": "markdown",
   "id": "39615611-5302-44b8-936d-d1686bd11db8",
   "metadata": {},
   "source": [
    "## **Selenium Code Example - 3/3**"
   ]
  },
  {
   "cell_type": "markdown",
   "id": "d7d8272f-6648-401c-a60d-c91e324e094e",
   "metadata": {},
   "source": [
    "## **Selenium control options to write text, button press, dropdown list, checkbox and others**"
   ]
  },
  {
   "cell_type": "code",
   "execution_count": 1,
   "id": "bf5a2e19-7987-4d2b-837c-db049a8f9b22",
   "metadata": {},
   "outputs": [],
   "source": [
    "# importing all the required modules\n",
    "from selenium import webdriver\n",
    "from selenium.webdriver.chrome.service import Service"
   ]
  },
  {
   "cell_type": "code",
   "execution_count": 2,
   "id": "98102dc9-0f29-4949-9065-7367f95e303d",
   "metadata": {},
   "outputs": [
    {
     "name": "stdout",
     "output_type": "stream",
     "text": [
      "4.18.1\n"
     ]
    }
   ],
   "source": [
    "# also checking the current version of selenium\n",
    "print (webdriver.__version__)"
   ]
  },
  {
   "cell_type": "code",
   "execution_count": 3,
   "id": "ecf04bef-f2b7-424a-ae90-03bd9c8a39e3",
   "metadata": {},
   "outputs": [],
   "source": [
    "# checking the presence of webdriver and opening a chrome instance\n",
    "service = Service(executable_path=\"./chromedriver.exe\")\n",
    "options = webdriver.ChromeOptions()\n",
    "driver = webdriver.Chrome(service=service, options=options)"
   ]
  },
  {
   "cell_type": "code",
   "execution_count": 4,
   "id": "020d325c-c857-4dbc-8b82-4c3f3e1532eb",
   "metadata": {},
   "outputs": [],
   "source": [
    "# now we shall go to another website for our currency conversion\n",
    "# https://www.calculator.net/ => Click on \"All Calculators\" => Click on \"Currency Calculator\"\n",
    "driver.get(\"https://www.calculator.net/currency-calculator.html\")"
   ]
  },
  {
   "cell_type": "code",
   "execution_count": 5,
   "id": "54956ca7-b5ae-48c0-ae8e-ab51c5ee3b32",
   "metadata": {},
   "outputs": [],
   "source": [
    "# import select and checkbox from selenium library to get HTML select tags\n",
    "from selenium.webdriver.support.ui import Select"
   ]
  },
  {
   "cell_type": "code",
   "execution_count": 6,
   "id": "0903960b-441b-46d2-94fd-d4e9942f6a75",
   "metadata": {},
   "outputs": [],
   "source": [
    "# now select the FROM currency as INR and To currency as USD from the drop down menu\n",
    "from_currency = Select(driver.find_element(\"id\", \"efrom\"))\n",
    "from_currency.select_by_visible_text(\"INR: Indian Rupee\")"
   ]
  },
  {
   "cell_type": "code",
   "execution_count": 7,
   "id": "02797e1e-05b6-4ef4-a6b1-2ed54619ca54",
   "metadata": {},
   "outputs": [],
   "source": [
    "to_currency = Select(driver.find_element(\"id\", \"eto\"))\n",
    "to_currency.select_by_value(\"USD\")"
   ]
  },
  {
   "cell_type": "code",
   "execution_count": 8,
   "id": "d7d398b5-b9a5-4520-a285-204bf0157bd5",
   "metadata": {},
   "outputs": [],
   "source": [
    "# put the amount value 500\n",
    "amount_textbox = driver.find_element(\"id\", \"eamount\")\n",
    "# clear the text field at first and then put the amount value as 500\n",
    "amount_textbox.clear()\n",
    "amount_textbox.send_keys(\"500\")"
   ]
  },
  {
   "cell_type": "code",
   "execution_count": 11,
   "id": "c4211337-9701-4fa3-8183-b5bfbf713824",
   "metadata": {},
   "outputs": [],
   "source": [
    "# click on the calculate button\n",
    "calculate_button = driver.find_element(\"xpath\", '//*[@id=\"standard\"]/tbody/tr[5]/td[2]/input[2]')\n",
    "calculate_button.click()"
   ]
  },
  {
   "cell_type": "code",
   "execution_count": 15,
   "id": "f80c66a5-2184-4935-8e00-4a337d4e91b1",
   "metadata": {},
   "outputs": [],
   "source": [
    "checkbox = driver.find_element(\"xpath\", '//*[@id=\"ccmajorccsettingbox\"]')\n",
    "# if this checkbox is already checked then uncheck it by the help of the java script\n",
    "if (checkbox.is_selected()):\n",
    "    driver.execute_script(\"arguments[0].click()\", checkbox)\n",
    "else:\n",
    "    driver.execute_script(\"arguments[0].click()\", checkbox)"
   ]
  },
  {
   "cell_type": "code",
   "execution_count": 16,
   "id": "72602f94-d40f-4206-baea-53f87aff2782",
   "metadata": {},
   "outputs": [],
   "source": [
    "# change the from currency text to 'ZWL: Zimbabwean Dollar'\n",
    "from_currency = Select(driver.find_element('id', \"efrom\"))\n",
    "from_currency.select_by_visible_text(\"ZWL: Zimbabwean Dollar\")"
   ]
  },
  {
   "cell_type": "code",
   "execution_count": 17,
   "id": "aed906c0-f69b-450a-a001-35040315cebc",
   "metadata": {},
   "outputs": [],
   "source": [
    "# put the amount value 1000\n",
    "amount_textbox = driver.find_element(\"id\", \"eamount\")\n",
    "# clear the text field at first and then put the amount value as 500\n",
    "amount_textbox.clear()\n",
    "amount_textbox.send_keys(\"1000\")"
   ]
  },
  {
   "cell_type": "code",
   "execution_count": 18,
   "id": "6aa8a5bf-b0dd-48ea-a21e-17a021129b1d",
   "metadata": {},
   "outputs": [],
   "source": [
    "# click on the calculate button\n",
    "calculate_button = driver.find_element(\"xpath\", '//*[@id=\"standard\"]/tbody/tr[5]/td[2]/input[2]')\n",
    "calculate_button.click()"
   ]
  },
  {
   "cell_type": "code",
   "execution_count": 19,
   "id": "b0ba8bd0-7df0-41cf-81b7-91220cb9306c",
   "metadata": {},
   "outputs": [],
   "source": [
    "# close the chrome instance\n",
    "driver.quit()"
   ]
  },
  {
   "cell_type": "code",
   "execution_count": null,
   "id": "7214ad08-99f8-423f-98ec-3e87480645bb",
   "metadata": {},
   "outputs": [],
   "source": []
  }
 ],
 "metadata": {
  "kernelspec": {
   "display_name": "Python 3 (ipykernel)",
   "language": "python",
   "name": "python3"
  },
  "language_info": {
   "codemirror_mode": {
    "name": "ipython",
    "version": 3
   },
   "file_extension": ".py",
   "mimetype": "text/x-python",
   "name": "python",
   "nbconvert_exporter": "python",
   "pygments_lexer": "ipython3",
   "version": "3.11.7"
  }
 },
 "nbformat": 4,
 "nbformat_minor": 5
}
